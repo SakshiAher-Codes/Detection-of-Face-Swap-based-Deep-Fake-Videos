{
 "cells": [
  {
   "cell_type": "code",
   "execution_count": null,
   "id": "89d9fb36-9154-44bb-8a39-84d62b6c33be",
   "metadata": {},
   "outputs": [],
   "source": [
    "import os\n",
    "import cv2\n",
    "import numpy as np\n",
    "import time\n",
    "from sklearn.model_selection import train_test_split\n",
    "from sklearn.utils import class_weight\n",
    "from tensorflow.keras.models import Sequential\n",
    "from tensorflow.keras.layers import Dense, Dropout, GlobalAveragePooling2D\n",
    "from tensorflow.keras.applications import EfficientNetB0\n",
    "from tensorflow.keras.preprocessing.image import ImageDataGenerator\n",
    "from tensorflow.keras.callbacks import ReduceLROnPlateau\n",
    "from tensorflow.keras.optimizers import Adam\n",
    "\n",
    "# Disable oneDNN optimizations for TensorFlow (if needed)\n",
    "os.environ['TF_ENABLE_ONEDNN_OPTS'] = '0'"
   ]
  },
  {
   "cell_type": "code",
   "execution_count": null,
   "id": "9f2939d8-aab5-4788-a30d-6c9641755b84",
   "metadata": {},
   "outputs": [],
   "source": [
    "# Function to extract frames from videos\n",
    "def extract_frames(video_path, label, max_frames=10):\n",
    "    video_frames = []\n",
    "    cap = cv2.VideoCapture(video_path)\n",
    "    frame_count = 0\n",
    "    while cap.isOpened() and frame_count < max_frames:\n",
    "        ret, frame = cap.read()\n",
    "        if not ret:\n",
    "            break\n",
    "        frame = cv2.resize(frame, (224, 224))  # Resize frames to 224x224\n",
    "        if len(frame.shape) == 2:  # Convert grayscale to RGB if needed\n",
    "            frame = cv2.cvtColor(frame, cv2.COLOR_GRAY2RGB)\n",
    "        video_frames.append([frame, label])\n",
    "        frame_count += 1\n",
    "    cap.release()\n",
    "    return video_frames\n",
    "\n",
    "# Function to load data from directories\n",
    "def load_data(paths, label):\n",
    "    start_time = time.time()\n",
    "    data = []\n",
    "    for path in paths:\n",
    "        print(f\"Processing path: {path}\")\n",
    "        for video in os.listdir(path):\n",
    "            video_path = os.path.join(path, video)\n",
    "            data.extend(extract_frames(video_path, label))\n",
    "    end_time = time.time()\n",
    "    print(f\"Loaded data from {paths}. Time taken: {end_time - start_time:.2f} seconds\")\n",
    "    return data\n"
   ]
  },
  {
   "cell_type": "code",
   "execution_count": 25,
   "id": "3f4fb8aa-bc72-442d-bf67-5ca1f473daa4",
   "metadata": {},
   "outputs": [
    {
     "name": "stdout",
     "output_type": "stream",
     "text": [
      "Processing path: D:\\Dataset_Celeb_df\\Celeb-DF\\Celeb-real\n",
      "Processing path: D:\\Dataset_Celeb_df\\Celeb-DF\\YouTube-real\n",
      "Loaded data from ['D:\\\\Dataset_Celeb_df\\\\Celeb-DF\\\\Celeb-real', 'D:\\\\Dataset_Celeb_df\\\\Celeb-DF\\\\YouTube-real']. Time taken: 21.77 seconds\n",
      "Processing path: D:\\Dataset_Celeb_df\\Celeb-DF\\Celeb-synthesis\n",
      "Loaded data from ['D:\\\\Dataset_Celeb_df\\\\Celeb-DF\\\\Celeb-synthesis']. Time taken: 39.19 seconds\n"
     ]
    }
   ],
   "source": [
    "# Paths to datasets\n",
    "real_paths = [\"D:\\\\Dataset_Celeb_df\\\\Celeb-DF\\\\Celeb-real\", \"D:\\\\Dataset_Celeb_df\\\\Celeb-DF\\\\YouTube-real\"]\n",
    "synthetic_paths = [\"D:\\\\Dataset_Celeb_df\\\\Celeb-DF\\\\Celeb-synthesis\"]\n",
    "\n",
    "# Load and label data\n",
    "real_data = load_data(real_paths, 0)  # 0 for real\n",
    "synthetic_data = load_data(synthetic_paths, 1)  # 1 for synthetic"
   ]
  },
  {
   "cell_type": "code",
   "execution_count": 27,
   "id": "56a293f9-82f0-4519-ba9c-8a2f7250f70d",
   "metadata": {},
   "outputs": [
    {
     "name": "stdout",
     "output_type": "stream",
     "text": [
      "X_train shape: (7856, 224, 224, 3)\n",
      "y_train shape: (7856,)\n"
     ]
    }
   ],
   "source": [
    "# Combine and split data\n",
    "all_data = real_data + synthetic_data\n",
    "X, y = zip(*all_data)\n",
    "X_train, X_test, y_train, y_test = train_test_split(X, y, test_size=0.2, random_state=42)\n",
    "\n",
    "# Convert to numpy arrays\n",
    "X_train = np.array(X_train)\n",
    "X_test = np.array(X_test)\n",
    "y_train = np.array(y_train)\n",
    "y_test = np.array(y_test)\n",
    "\n",
    "# Verify shapes\n",
    "print(f\"X_train shape: {X_train.shape}\")  # Should be (num_samples, 224, 224, 3)\n",
    "print(f\"y_train shape: {y_train.shape}\")  # Should be (num_samples,)"
   ]
  },
  {
   "cell_type": "code",
   "execution_count": 29,
   "id": "2c792a6a-4d84-4046-b8fb-9374113cbaff",
   "metadata": {},
   "outputs": [],
   "source": [
    "# Data Augmentation for training data\n",
    "train_datagen = ImageDataGenerator(\n",
    "    rescale=1./255,\n",
    "    rotation_range=20,\n",
    "    width_shift_range=0.2,\n",
    "    height_shift_range=0.2,\n",
    "    shear_range=0.2,\n",
    "    zoom_range=0.2,\n",
    "    horizontal_flip=True,\n",
    "    vertical_flip=True,\n",
    "    brightness_range=[0.8, 1.2],\n",
    "    fill_mode='nearest'\n",
    ")\n",
    "\n",
    "# Create the training generator\n",
    "train_generator = train_datagen.flow(\n",
    "    X_train,  # Input data (images)\n",
    "    y_train,  # Labels\n",
    "    batch_size=32,\n",
    "    shuffle=True\n",
    ")\n",
    "\n",
    "# Validation Data Generator (No Augmentation, Only Rescaling)\n",
    "test_datagen = ImageDataGenerator(rescale=1./255)\n",
    "\n",
    "# Create the validation generator\n",
    "test_generator = test_datagen.flow(\n",
    "    X_test,  # Input data (images)\n",
    "    y_test,  # Labels\n",
    "    batch_size=32,\n",
    "    shuffle=False\n",
    ")\n"
   ]
  },
  {
   "cell_type": "code",
   "execution_count": 31,
   "id": "4c7abda2-88b7-403f-914d-364ed46c5779",
   "metadata": {},
   "outputs": [],
   "source": [
    "# Build the model using EfficientNetB0 (Transfer Learning)\n",
    "def build_model():\n",
    "    base_model = EfficientNetB0(weights='imagenet', include_top=False, input_shape=(224, 224, 3))\n",
    "    base_model.trainable = False  # Freeze the base model\n",
    "\n",
    "    model = Sequential([\n",
    "        base_model,\n",
    "        GlobalAveragePooling2D(),\n",
    "        Dense(256, activation='relu'),\n",
    "        Dropout(0.5),\n",
    "        Dense(1, activation='sigmoid')\n",
    "    ])\n",
    "    model.compile(optimizer=Adam(learning_rate=0.0001), loss='binary_crossentropy', metrics=['accuracy'])\n",
    "    return model\n",
    "\n",
    "# Create the model\n",
    "model = build_model()\n",
    "\n",
    "# Compute class weights for imbalanced data\n",
    "class_weights = class_weight.compute_class_weight('balanced', classes=np.unique(y_train), y=y_train)\n",
    "class_weights = dict(enumerate(class_weights))\n",
    "\n",
    "# Learning rate scheduler\n",
    "reduce_lr = ReduceLROnPlateau(monitor='val_loss', factor=0.2, patience=3, min_lr=0.00001)"
   ]
  },
  {
   "cell_type": "code",
   "execution_count": null,
   "id": "35741f7f-e325-4535-b3b4-b765e6ca931f",
   "metadata": {},
   "outputs": [
    {
     "name": "stdout",
     "output_type": "stream",
     "text": [
      "Epoch 1/20\n",
      "\u001b[1m245/245\u001b[0m \u001b[32m━━━━━━━━━━━━━━━━━━━━\u001b[0m\u001b[37m\u001b[0m \u001b[1m0s\u001b[0m 2s/step - accuracy: 0.6735 - loss: 0.6371"
     ]
    }
   ],
   "source": [
    "history = model.fit(\n",
    "    train_generator,\n",
    "    steps_per_epoch=len(X_train) // 32,\n",
    "    epochs=20,\n",
    "    validation_data=test_generator,\n",
    "    validation_steps=len(X_test) // 32,\n",
    "    callbacks=[reduce_lr]\n",
    ")"
   ]
  },
  {
   "cell_type": "code",
   "execution_count": null,
   "id": "5bcead06-2fff-4469-ab9c-e2aafb24de7c",
   "metadata": {},
   "outputs": [],
   "source": [
    "# Evaluate the model\n",
    "def evaluate_model(model, X_test, y_test):\n",
    "    start_time = time.time()\n",
    "    loss, accuracy = model.evaluate(test_generator)\n",
    "    end_time = time.time()\n",
    "    print(f\"Test Accuracy: {accuracy*100:.2f}%\")\n",
    "    print(f\"Evaluation completed in {end_time - start_time:.2f} seconds\")\n",
    "\n",
    "evaluate_model(model, X_test, y_test)\n"
   ]
  },
  {
   "cell_type": "code",
   "execution_count": null,
   "id": "690c3ed6-d04c-4b62-8adb-f22dae0d2199",
   "metadata": {},
   "outputs": [],
   "source": [
    "# Save the trained model\n",
    "model.save(\"deepfake_model_improved.h5\")\n",
    "print(\"Model saved as deepfake_model_improved.h5\")"
   ]
  }
 ],
 "metadata": {
  "kernelspec": {
   "display_name": "Python 3 (ipykernel)",
   "language": "python",
   "name": "python3"
  },
  "language_info": {
   "codemirror_mode": {
    "name": "ipython",
    "version": 3
   },
   "file_extension": ".py",
   "mimetype": "text/x-python",
   "name": "python",
   "nbconvert_exporter": "python",
   "pygments_lexer": "ipython3",
   "version": "3.11.7"
  }
 },
 "nbformat": 4,
 "nbformat_minor": 5
}
