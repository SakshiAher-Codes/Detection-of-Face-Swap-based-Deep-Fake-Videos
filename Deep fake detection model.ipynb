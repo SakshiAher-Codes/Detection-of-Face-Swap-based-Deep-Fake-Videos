{
 "cells": [
  {
   "cell_type": "code",
   "execution_count": 1,
   "id": "89d9fb36-9154-44bb-8a39-84d62b6c33be",
   "metadata": {},
   "outputs": [],
   "source": [
    "import os\n",
    "import cv2\n",
    "import numpy as np\n",
    "import time\n",
    "from sklearn.model_selection import train_test_split\n",
    "from sklearn.utils import class_weight\n",
    "os.environ['TF_ENABLE_ONEDNN_OPTS'] = '0'\n",
    "from tensorflow.keras.models import Sequential\n",
    "from tensorflow.keras.layers import Conv2D, MaxPooling2D, Flatten, Dense\n",
    "from tensorflow.keras.preprocessing.image import ImageDataGenerator\n",
    "import random"
   ]
  },
  {
   "cell_type": "markdown",
   "id": "63ec1b7d-6030-43cc-8161-8dc24d985cf6",
   "metadata": {},
   "source": [
    "## Extracting video frames and loading them"
   ]
  },
  {
   "cell_type": "code",
   "execution_count": 2,
   "id": "2f2e7c6f-6361-47e2-b809-74f09e15a1bf",
   "metadata": {},
   "outputs": [],
   "source": [
    "def extract_frames(video_path, label, max_frames=10):\n",
    "    video_frames = []\n",
    "    cap = cv2.VideoCapture(video_path)\n",
    "    frame_count = 0\n",
    "    while cap.isOpened() and frame_count < max_frames:\n",
    "        ret, frame = cap.read()\n",
    "        if not ret:\n",
    "            break\n",
    "        frame = cv2.resize(frame, (224, 224))\n",
    "        # Ensure the frame has 3 channels (convert grayscale to RGB)\n",
    "        if len(frame.shape) == 2:\n",
    "            frame = cv2.cvtColor(frame, cv2.COLOR_GRAY2RGB)\n",
    "        video_frames.append([frame, label])\n",
    "        frame_count += 1\n",
    "    cap.release()\n",
    "    return video_frames\n",
    "\n",
    "\n",
    "def load_data(paths, label):\n",
    "    start_time = time.time()\n",
    "    data = []\n",
    "    for path in paths:\n",
    "        print(f\"Processing path: {path}\")\n",
    "        for video in os.listdir(path):\n",
    "            video_path = os.path.join(path, video)\n",
    "            data.extend(extract_frames(video_path, label))\n",
    "    end_time = time.time()\n",
    "    print(f\"Loaded data from {paths}. Time taken: {end_time - start_time:.2f} seconds\")\n",
    "    return data\n"
   ]
  },
  {
   "cell_type": "markdown",
   "id": "544dd2bd-47b6-4a65-84c0-d551c410c9ca",
   "metadata": {},
   "source": [
    "## Paths for datasets"
   ]
  },
  {
   "cell_type": "code",
   "execution_count": 3,
   "id": "30072de6-8466-4ff3-ade1-fc3034fa91a7",
   "metadata": {},
   "outputs": [],
   "source": [
    "real_paths = [\"D:\\\\Dataset_Celeb_df\\\\Celeb-DF\\\\Celeb-real\",\n",
    "             \"D:\\\\Dataset_Celeb_df\\\\Celeb-DF\\\\YouTube-real\"]\n",
    "synthetic_paths = [\"D:\\\\Dataset_Celeb_df\\\\Celeb-DF\\\\Celeb-synthesis\"]"
   ]
  },
  {
   "cell_type": "markdown",
   "id": "b623f18e-18fd-466e-82c9-40ecab1aad11",
   "metadata": {},
   "source": [
    "## Loading and labeling data"
   ]
  },
  {
   "cell_type": "code",
   "execution_count": 7,
   "id": "8c0e4832-2f8e-4a72-9558-4c4eebadd21d",
   "metadata": {},
   "outputs": [
    {
     "name": "stdout",
     "output_type": "stream",
     "text": [
      "Processing path: D:\\Dataset_Celeb_df\\Celeb-DF\\Celeb-real\n",
      "Processing path: D:\\Dataset_Celeb_df\\Celeb-DF\\YouTube-real\n",
      "Loaded data from ['D:\\\\Dataset_Celeb_df\\\\Celeb-DF\\\\Celeb-real', 'D:\\\\Dataset_Celeb_df\\\\Celeb-DF\\\\YouTube-real']. Time taken: 23.82 seconds\n",
      "Processing path: D:\\Dataset_Celeb_df\\Celeb-DF\\Celeb-synthesis\n",
      "Loaded data from ['D:\\\\Dataset_Celeb_df\\\\Celeb-DF\\\\Celeb-synthesis']. Time taken: 53.75 seconds\n"
     ]
    }
   ],
   "source": [
    "\n",
    "real_data = load_data(real_paths, 0) # 0 for real\n",
    "synthetic_data = load_data(synthetic_paths, 1) # 1 for synthetic\n"
   ]
  },
  {
   "cell_type": "markdown",
   "id": "9c46d559-c6e8-427d-9ba2-94df7d5c8c24",
   "metadata": {},
   "source": [
    "## Combine and split data"
   ]
  },
  {
   "cell_type": "code",
   "execution_count": 51,
   "id": "6d2871df-608b-49fc-b99e-c2210cb423d7",
   "metadata": {},
   "outputs": [
    {
     "name": "stdout",
     "output_type": "stream",
     "text": [
      "X_train shape: (7856, 224, 224, 3)\n",
      "y_train shape: (7856,)\n"
     ]
    }
   ],
   "source": [
    "all_data = real_data + synthetic_data\n",
    "X, y = zip(*all_data)\n",
    "X_train, X_test, y_train, y_test = train_test_split(X, y, test_size=0.2, random_state=42)\n",
    "# After splitting the data\n",
    "X_train = np.array([x for x in X_train])  # Convert list of frames to 4D array\n",
    "X_test = np.array([x for x in X_test])    # Same for test data\n",
    "y_train = np.array(y_train)\n",
    "y_test = np.array(y_test)\n",
    "\n",
    "# Verify shapes\n",
    "print(f\"X_train shape: {X_train.shape}\")  # Should be (num_samples, 224, 224, 3)\n",
    "print(f\"y_train shape: {y_train.shape}\")  # Should be (num_samples,)"
   ]
  },
  {
   "cell_type": "markdown",
   "id": "d2a9dd49-07ee-42fb-8311-e9901ddd0da7",
   "metadata": {},
   "source": [
    "## Data Augmentation for training data"
   ]
  },
  {
   "cell_type": "code",
   "execution_count": 53,
   "id": "f62422b6-a94f-486b-83ca-504a25c565c5",
   "metadata": {},
   "outputs": [
    {
     "name": "stderr",
     "output_type": "stream",
     "text": [
      "C:\\Users\\DELL\\anaconda3\\Lib\\site-packages\\keras\\src\\layers\\convolutional\\base_conv.py:107: UserWarning: Do not pass an `input_shape`/`input_dim` argument to a layer. When using Sequential models, prefer using an `Input(shape)` object as the first layer in the model instead.\n",
      "  super().__init__(activity_regularizer=activity_regularizer, **kwargs)\n"
     ]
    }
   ],
   "source": [
    "train_datagen = ImageDataGenerator(\n",
    "    rescale=1./255,\n",
    "    rotation_range=10,\n",
    "    width_shift_range=0.1,\n",
    "    height_shift_range=0.1,\n",
    "    shear_range=0.1,\n",
    "    zoom_range=0.1,\n",
    "    horizontal_flip=True,\n",
    "    fill_mode='nearest'\n",
    ")\n",
    "\n",
    "train_generator = train_datagen.flow(np.array(X_train), np.array(y_train), batch_size=32)\n",
    "\n",
    "def build_model():\n",
    "    model = Sequential([\n",
    "        Conv2D(32, (3, 3), activation='relu', input_shape=(224, 224, 3)),\n",
    "        MaxPooling2D((2, 2)),\n",
    "        Conv2D(64, (3, 3), activation='relu'),\n",
    "        MaxPooling2D((2, 2)),\n",
    "        Conv2D(128, (3, 3), activation='relu'),\n",
    "        MaxPooling2D((2, 2)),\n",
    "        Flatten(),\n",
    "        Dense(64, activation='relu'),\n",
    "        Dense(1, activation='sigmoid')\n",
    "    ])\n",
    "    model.compile(optimizer='adam', loss='binary_crossentropy', metrics=['accuracy'])\n",
    "    return model\n",
    "\n",
    "my_model = build_model()\n",
    "# Compute class weights\n",
    "class_weights = class_weight.compute_class_weight(class_weight='balanced', classes=np.unique(y_train), y=y_train)\n",
    "class_weights = dict(enumerate(class_weights))\n"
   ]
  },
  {
   "cell_type": "markdown",
   "id": "0d70fcdb-38e3-47fd-a099-6e06337fce3d",
   "metadata": {},
   "source": [
    "### Train the model"
   ]
  },
  {
   "cell_type": "code",
   "execution_count": null,
   "id": "346d9f84-c8ca-44eb-a901-379a08ecd5ad",
   "metadata": {},
   "outputs": [
    {
     "name": "stdout",
     "output_type": "stream",
     "text": [
      "X_batch type: <class 'numpy.ndarray'>\n",
      "X_batch shape: (32, 224, 224, 3)\n",
      "X_batch dtype: float32\n",
      "y_batch type: <class 'numpy.ndarray'>\n",
      "y_batch shape: (32,)\n",
      "y_batch dtype: int32\n"
     ]
    },
    {
     "name": "stderr",
     "output_type": "stream",
     "text": [
      "C:\\Users\\DELL\\anaconda3\\Lib\\site-packages\\keras\\src\\trainers\\data_adapters\\py_dataset_adapter.py:121: UserWarning: Your `PyDataset` class should call `super().__init__(**kwargs)` in its constructor. `**kwargs` can include `workers`, `use_multiprocessing`, `max_queue_size`. Do not pass these arguments to `fit()`, as they will be ignored.\n",
      "  self._warn_if_super_not_called()\n"
     ]
    },
    {
     "name": "stdout",
     "output_type": "stream",
     "text": [
      "Epoch 1/5\n",
      "\u001b[1m209/245\u001b[0m \u001b[32m━━━━━━━━━━━━━━━━━\u001b[0m\u001b[37m━━━\u001b[0m \u001b[1m1:41\u001b[0m 3s/step - accuracy: 0.6726 - loss: 0.6863"
     ]
    }
   ],
   "source": [
    "import tensorflow as tf\n",
    "import numpy as np\n",
    "import time\n",
    "\n",
    "# Validation Data Generator (No Augmentation, Only Rescaling)\n",
    "test_datagen = ImageDataGenerator(rescale=1./255)\n",
    "\n",
    "test_generator = test_datagen.flow(\n",
    "    X_test,  \n",
    "    y_test,  \n",
    "    batch_size=32,\n",
    "    shuffle=False  \n",
    ")\n",
    "\n",
    "def train_model(model, train_generator, X_test, y_test, class_weights, epochs=5):\n",
    "    start_time = time.time()\n",
    "\n",
    "    # Debug: Check generator output\n",
    "    X_batch, y_batch = next(iter(train_generator))\n",
    "    print(\"X_batch type:\", type(X_batch))\n",
    "    print(\"X_batch shape:\", X_batch.shape)\n",
    "    print(\"X_batch dtype:\", X_batch.dtype)\n",
    "    print(\"y_batch type:\", type(y_batch))\n",
    "    print(\"y_batch shape:\", y_batch.shape)\n",
    "    print(\"y_batch dtype:\", y_batch.dtype)\n",
    "\n",
    "    # Normalize test data\n",
    "    X_test = np.array(X_test, dtype=np.float32) / 255.0\n",
    "    y_test = np.array(y_test, dtype=np.int32)\n",
    "\n",
    "    # Fix steps_per_epoch\n",
    "    steps_per_epoch = train_generator.n // train_generator.batch_size \n",
    "\n",
    "    # Training with Proper Validation Generator\n",
    "    history = my_model.fit(\n",
    "    train_generator,\n",
    "    steps_per_epoch=len(X_train) // 32,\n",
    "    epochs=5,  # Train for more epochs\n",
    "    validation_data=test_generator,  \n",
    "    validation_steps=len(X_test) // 32  \n",
    ")\n",
    "\n",
    "\n",
    "    end_time = time.time()\n",
    "    print(f\"Training completed in {end_time - start_time:.2f} seconds\")\n",
    "    \n",
    "    return history\n",
    "\n",
    "# Call function correctly\n",
    "train_history = train_model(my_model, train_generator, X_test, y_test, class_weights, epochs=5)\n",
    "\n"
   ]
  },
  {
   "cell_type": "markdown",
   "id": "d7342b0e-f032-42d1-ab37-12d2a66962d7",
   "metadata": {},
   "source": [
    "### Evaluate the Model"
   ]
  },
  {
   "cell_type": "code",
   "execution_count": 39,
   "id": "b420d994-98f2-4cb4-b604-0e96e2d120a3",
   "metadata": {},
   "outputs": [
    {
     "name": "stdout",
     "output_type": "stream",
     "text": [
      "\u001b[1m54/54\u001b[0m \u001b[32m━━━━━━━━━━━━━━━━━━━━\u001b[0m\u001b[37m\u001b[0m \u001b[1m40s\u001b[0m 740ms/step - accuracy: 0.7556 - loss: 0.5229\n",
      "Test Accuracy: 74.16%\n",
      "Evaluation completed in 51.84 seconds\n"
     ]
    }
   ],
   "source": [
    "def evaluate_model(model, X_test, y_test):\n",
    "    start_time = time.time()\n",
    "    loss, accuracy = model.evaluate(np.array(X_test) / 255.0, np.array(y_test))\n",
    "    end_time = time.time()\n",
    "    print(f\"Test Accuracy: {accuracy*100:.2f}%\")\n",
    "    print(f\"Evaluation completed in {end_time - start_time:.2f} seconds\")\n",
    "\n",
    "evaluate_model(my_model, X_test, y_test)"
   ]
  },
  {
   "cell_type": "code",
   "execution_count": 41,
   "id": "cac69f94-68a3-4f73-9ecf-292aee9864cb",
   "metadata": {},
   "outputs": [
    {
     "name": "stderr",
     "output_type": "stream",
     "text": [
      "WARNING:absl:You are saving your model as an HDF5 file via `model.save()` or `keras.saving.save_model(model)`. This file format is considered legacy. We recommend using instead the native Keras format, e.g. `model.save('my_model.keras')` or `keras.saving.save_model(model, 'my_model.keras')`. \n"
     ]
    }
   ],
   "source": [
    "# Save the trained model\n",
    "my_model.save(\"deepfake_model.h5\")  # Saves in HDF5 format"
   ]
  }
 ],
 "metadata": {
  "kernelspec": {
   "display_name": "Python 3 (ipykernel)",
   "language": "python",
   "name": "python3"
  },
  "language_info": {
   "codemirror_mode": {
    "name": "ipython",
    "version": 3
   },
   "file_extension": ".py",
   "mimetype": "text/x-python",
   "name": "python",
   "nbconvert_exporter": "python",
   "pygments_lexer": "ipython3",
   "version": "3.11.7"
  }
 },
 "nbformat": 4,
 "nbformat_minor": 5
}
